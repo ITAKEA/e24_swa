{
 "cells": [
  {
   "cell_type": "markdown",
   "metadata": {
    "slideshow": {
     "slide_type": "slide"
    }
   },
   "source": [
    "# SWA og Cloud\n",
    "## ITA 3. Semester KEA Efterår 2024"
   ]
  },
  {
   "cell_type": "markdown",
   "metadata": {
    "slideshow": {
     "slide_type": "slide"
    }
   },
   "source": [
    "## Claus Bové\n",
    "* Musikkonservatoriet (cand.musicae)\n",
    "* ITU/CBS (cand.IT)\n",
    "* Underviser:\n",
    "    * Teknologi\n",
    "    * Programmering\n",
    "    * Python"
   ]
  },
  {
   "cell_type": "markdown",
   "metadata": {
    "slideshow": {
     "slide_type": "slide"
    }
   },
   "source": [
    "## Softwarearkitektur\n",
    "\n",
    "* Microservicearkitektur\n",
    "* Programdokumentation\n",
    "    * Swagger (openapi)\n",
    "    * MkDocs\n",
    "    * readme filer\n",
    "* SOLID, KISS, DRY, GRASP\n",
    "* Python og pythonic udviklingsmiljø"
   ]
  },
  {
   "cell_type": "markdown",
   "metadata": {
    "slideshow": {
     "slide_type": "slide"
    }
   },
   "source": [
    "## Microservices\n",
    "![](microservice_diagram.png)    \n",
    "https://api.github.com/repos/itakea/kode_fra_undervisning_e24"
   ]
  },
  {
   "cell_type": "markdown",
   "metadata": {
    "slideshow": {
     "slide_type": "slide"
    }
   },
   "source": [
    "## Account Service\n",
    "```\n",
    "from flask import Flask, jsonify, request\n",
    "from flasgger import Swagger, swag_from\n",
    "\n",
    "app = Flask(__name__)\n",
    "app.config['SECRET_KEY'] = os.getenv('SECRET_KEY')\n",
    "\n",
    "users = [\n",
    "    {\"id\": 1, \"name\": \"Claus Bove\"},\n",
    "    {\"id\": 2, \"name\": \"Michael Egesborg\"},\n",
    "    {\"id\": 3, \"name\": \"Lasse Vogelsang\"}\n",
    "]\n",
    "\n",
    "def token_required(f):\n",
    "    def wrapped(*args, **kwargs):\n",
    "        token = request.headers.get('Authorization')\n",
    "        if not token:\n",
    "            return jsonify({\"message\": \"Token is missing!\"}), 403\n",
    "\n",
    "        try:\n",
    "            jwt.decode(token, app.config['SECRET_KEY'], algorithms=['HS256'])\n",
    "        except jwt.ExpiredSignatureError:\n",
    "            return jsonify({\"message\": \"Token is expired!\"}), 403\n",
    "        except jwt.InvalidTokenError:\n",
    "            return jsonify({\"message\": \"Invalid token!\"}), 403\n",
    "\n",
    "        return f(*args, **kwargs)\n",
    "    return wrapped\n",
    "\n",
    "\n",
    "@app.route('/users/user_id', methods=['GET'])\n",
    "@token_required\n",
    "@swag_from('get_user.yml')\n",
    "def get_user(user_id):\n",
    "    user = next((u for u in users if u['id'] == user_id), None)\n",
    "    if user:\n",
    "        return jsonify(user)\n",
    "    else:\n",
    "        return jsonify({\"error\": \"User not found\"}), 404\n",
    "\n",
    "if __name__ == '__main__':\n",
    "    app.run(port=5003)\n",
    "\n",
    "```"
   ]
  },
  {
   "cell_type": "markdown",
   "metadata": {
    "slideshow": {
     "slide_type": "slide"
    }
   },
   "source": [
    "## Cloud\n",
    "* Linux\n",
    "* Docker\n",
    "* Github Actions\n",
    "* Azure web apps\n",
    "* Dependency Management"
   ]
  },
  {
   "cell_type": "markdown",
   "metadata": {
    "slideshow": {
     "slide_type": "slide"
    }
   },
   "source": [
    "## Materiale\n",
    "\n",
    "* https://itakea.github.io/e24_swa/\n",
    "* https://itakea.github.io/e24_cloud/"
   ]
  },
  {
   "cell_type": "markdown",
   "metadata": {
    "slideshow": {
     "slide_type": "slide"
    }
   },
   "source": [
    "## Arbejde og tidsforbrug dette semester\n",
    "\n",
    "\"For at blive expert indenfor et område skal du bruge 10.000 timer\" \n",
    "\n",
    "* 15 etcs for SWA og Cloud\n",
    "* 20 timer om ugen til 15 etcs\n",
    "* 8 lektioner (timers) undervisning om ugen\n",
    "* 12 timers hjemmearbejde"
   ]
  }
 ],
 "metadata": {
  "kernelspec": {
   "display_name": ".venv",
   "language": "python",
   "name": "python3"
  },
  "language_info": {
   "codemirror_mode": {
    "name": "ipython",
    "version": 3
   },
   "file_extension": ".py",
   "mimetype": "text/x-python",
   "name": "python",
   "nbconvert_exporter": "python",
   "pygments_lexer": "ipython3",
   "version": "3.12.5"
  }
 },
 "nbformat": 4,
 "nbformat_minor": 2
}
