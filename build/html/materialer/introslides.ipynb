{
 "cells": [
  {
   "cell_type": "markdown",
   "metadata": {
    "slideshow": {
     "slide_type": "slide"
    }
   },
   "source": [
    "# SWA og Cloud\n",
    "## ITA 3. Semester KEA Efterår 2024"
   ]
  },
  {
   "cell_type": "markdown",
   "metadata": {
    "slideshow": {
     "slide_type": "slide"
    }
   },
   "source": [
    "## Claus Bové\n",
    "\n"
   ]
  },
  {
   "cell_type": "markdown",
   "metadata": {
    "slideshow": {
     "slide_type": "slide"
    }
   },
   "source": [
    "## Arbejde og tidsforbrug dette semester\n",
    "\n",
    "\"For at blive expert indenfor et område skal du bruge 10.000 timer\" \n",
    "\n",
    "* 15 etcs for SWA og Cloud\n",
    "* 42 timer om ugen til 30 etcs\n",
    "* 8 timer om dagen (40 timer)\n",
    "* 20 timers arbejde om ugen til SWA og Cloud\n",
    "* 8 lektioner (timers) undervisning om ugen\n",
    "* 12 timers hjemmearbejde"
   ]
  },
  {
   "cell_type": "markdown",
   "metadata": {
    "slideshow": {
     "slide_type": "slide"
    }
   },
   "source": [
    "## Læringsmålene\n",
    "* Softwarearkitektur\n",
    "* Cloud"
   ]
  },
  {
   "cell_type": "markdown",
   "metadata": {
    "slideshow": {
     "slide_type": "slide"
    }
   },
   "source": [
    "## Softwarearkitektur"
   ]
  },
  {
   "cell_type": "markdown",
   "metadata": {},
   "source": [
    "* Datatyper\n",
    "* Datastrukture\n",
    "* Functioner\n",
    "* OOP\n",
    "* Microservices\n",
    "* Flask API\n",
    "* Asyncio\n",
    "* Databaser\n",
    "    * Sqllite\n",
    "    * Graph Databaser\n",
    "    * Vector Databaser\n",
    "* ORM\n",
    "* Dokumentation\n",
    "    * OpenApi\n",
    "    * Docstrings\n",
    "    * readme.md \n",
    "* Frontend\n",
    "    * Notebooks\n",
    "    * Tableau "
   ]
  },
  {
   "cell_type": "markdown",
   "metadata": {
    "slideshow": {
     "slide_type": "slide"
    }
   },
   "source": [
    "## Cloud"
   ]
  },
  {
   "cell_type": "markdown",
   "metadata": {},
   "source": [
    "* Linux\n",
    "* Terminal kommandoer\n",
    "* Docker\n",
    "* Git og Github\n",
    "* Github Actions\n",
    "* PyPi\n",
    "* Azure web apps\n",
    "* Dependency Management (venv)\n",
    "* Environment variables"
   ]
  },
  {
   "cell_type": "markdown",
   "metadata": {},
   "source": []
  }
 ],
 "metadata": {
  "kernelspec": {
   "display_name": ".venv",
   "language": "python",
   "name": "python3"
  },
  "language_info": {
   "codemirror_mode": {
    "name": "ipython",
    "version": 3
   },
   "file_extension": ".py",
   "mimetype": "text/x-python",
   "name": "python",
   "nbconvert_exporter": "python",
   "pygments_lexer": "ipython3",
   "version": "3.12.3"
  }
 },
 "nbformat": 4,
 "nbformat_minor": 2
}
