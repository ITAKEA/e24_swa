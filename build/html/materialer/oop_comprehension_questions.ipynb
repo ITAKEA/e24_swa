{
 "cells": [
  {
   "cell_type": "markdown",
   "metadata": {},
   "source": [
    "# OOP forståelsesspørgsmål\n",
    "Gennemgang i starten af timen med en demonstration af konceptet."
   ]
  },
  {
   "cell_type": "markdown",
   "metadata": {},
   "source": [
    "1. **Kan du beskrive forskellen mellem en klasse og et objekt i Python?**\n",
    "   - Hvad repræsenterer en klasse kontra et objekt?"
   ]
  },
  {
   "cell_type": "code",
   "execution_count": null,
   "metadata": {},
   "outputs": [],
   "source": []
  },
  {
   "cell_type": "markdown",
   "metadata": {},
   "source": [
    "2. **Hvad er et attribut i objektorienteret programmering, og hvordan definerer du det i en Python-klasse?**\n",
    "   - Kan du give et eksempel på et klasseattribut og et instansattribut?"
   ]
  },
  {
   "cell_type": "code",
   "execution_count": null,
   "metadata": {},
   "outputs": [],
   "source": []
  },
  {
   "cell_type": "markdown",
   "metadata": {},
   "source": [
    "3. **Hvad er en metode i en klasse, og hvordan adskiller en metode sig fra en almindelig funktion i Python?**\n",
    "   - Kan du illustrere med et eksempel, hvordan man definerer og kalder en metode?"
   ]
  },
  {
   "cell_type": "code",
   "execution_count": null,
   "metadata": {},
   "outputs": [],
   "source": []
  },
  {
   "cell_type": "markdown",
   "metadata": {},
   "source": [
    "4. **Hvad menes med arv (inheritance) i objektorienteret programmering, og hvordan implementerer du arv i Python?**\n",
    "   - Kan du forklare med et eksempel på et forhold mellem en base class og en nedarvet klasse?"
   ]
  },
  {
   "cell_type": "code",
   "execution_count": null,
   "metadata": {},
   "outputs": [],
   "source": []
  },
  {
   "cell_type": "markdown",
   "metadata": {},
   "source": [
    "5. **Hvordan bruger du `super()`-funktionen i Python, og hvad er dens formål?**\n",
    "   - Hvorfor og hvordan ville du bruge `super()` når du arbejder med arvede klasser?"
   ]
  },
  {
   "cell_type": "code",
   "execution_count": null,
   "metadata": {},
   "outputs": [],
   "source": []
  },
  {
   "cell_type": "markdown",
   "metadata": {},
   "source": [
    "\n",
    "\n",
    "\n",
    "\n",
    "\n",
    "\n",
    "\n",
    "\n",
    "\n",
    "\n",
    "6. **Kan du forklare konceptet indkapsling (encapsulation) og hvordan du kan implementere det i Python?**\n",
    "   - Hvad er forskellen mellem offentlige, beskyttede og private attributter i Python?\n",
    "\n",
    "7. **Hvad er polymorfi (polymorphism) i objektorienteret programmering, og hvordan kan det bruges i Python?**\n",
    "   - Kan du give et eksempel på en metode, der er polymorfisk?\n",
    "\n",
    "8. **Hvad er abstrakte basisklasser (Abstract Base Classes), og hvordan bruges de i Python?**\n",
    "   - Hvordan tvinger du underklasser til at implementere specifikke metoder?\n",
    "\n",
    "9. **Hvordan vil du definere og bruge en konstruktionsmetode (`__init__`) i en klasse?**\n",
    "   - Hvad er formålet med konstruktøren, og hvad sker der, når en instans oprettes?\n",
    "\n",
    "10. **Kan du give et eksempel på, hvordan man kan håndtere og bruge egenskaber (properties) i Python for at kontrollere adgang til attributter?**\n",
    "    - Hvad er `@property`-dekorationen, og hvordan bruger du setter- og getter-metoder?\n"
   ]
  },
  {
   "cell_type": "markdown",
   "metadata": {},
   "source": []
  }
 ],
 "metadata": {
  "kernelspec": {
   "display_name": ".venv",
   "language": "python",
   "name": "python3"
  },
  "language_info": {
   "name": "python",
   "version": "3.12.3"
  }
 },
 "nbformat": 4,
 "nbformat_minor": 2
}
